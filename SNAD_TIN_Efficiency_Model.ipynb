{
  "nbformat": 4,
  "nbformat_minor": 0,
  "metadata": {
    "colab": {
      "provenance": [],
      "authorship_tag": "ABX9TyO/Bukg5cytxwA17FHaJWix",
      "include_colab_link": true
    },
    "kernelspec": {
      "name": "python3",
      "display_name": "Python 3"
    },
    "language_info": {
      "name": "python"
    }
  },
  "cells": [
    {
      "cell_type": "markdown",
      "metadata": {
        "id": "view-in-github",
        "colab_type": "text"
      },
      "source": [
        "<a href=\"https://colab.research.google.com/github/gouravreddy02/Nitrogen-Removal-Efficiency-in-SNAD-Process/blob/main/SNAD_TIN_Efficiency_Model.ipynb\" target=\"_parent\"><img src=\"https://colab.research.google.com/assets/colab-badge.svg\" alt=\"Open In Colab\"/></a>"
      ]
    },
    {
      "cell_type": "code",
      "execution_count": null,
      "metadata": {
        "id": "VJM_jf0_-z-Y"
      },
      "outputs": [],
      "source": [
        "from sklearn.model_selection import train_test_split\n",
        "from sklearn.linear_model import LinearRegression\n",
        "from sklearn.model_selection import KFold\n",
        "from sklearn.metrics import mean_squared_error\n",
        "import matplotlib.pyplot as plt\n",
        "import pandas as pd\n",
        "import numpy as np\n",
        "import math\n",
        "import matplotlib.pyplot as plt"
      ]
    },
    {
      "cell_type": "code",
      "source": [
        "df = pd.read_csv('TIN.csv')"
      ],
      "metadata": {
        "id": "MvFnu3PK-6at"
      },
      "execution_count": null,
      "outputs": []
    },
    {
      "cell_type": "code",
      "source": [
        "df.shape"
      ],
      "metadata": {
        "colab": {
          "base_uri": "https://localhost:8080/"
        },
        "id": "4oBroxxc-8Wr",
        "outputId": "2caf4511-62d7-4f81-fcc0-5ef9e1977b7f"
      },
      "execution_count": null,
      "outputs": [
        {
          "output_type": "execute_result",
          "data": {
            "text/plain": [
              "(12, 11)"
            ]
          },
          "metadata": {},
          "execution_count": 3
        }
      ]
    },
    {
      "cell_type": "code",
      "source": [
        "X = df.iloc[:, :-1].values\n",
        "Y = df.iloc[:, -1].values"
      ],
      "metadata": {
        "id": "Rkzy6e5G--KG"
      },
      "execution_count": null,
      "outputs": []
    },
    {
      "cell_type": "code",
      "source": [
        "reg = LinearRegression().fit(X, Y)"
      ],
      "metadata": {
        "id": "4fAkI3t5-_oX"
      },
      "execution_count": null,
      "outputs": []
    },
    {
      "cell_type": "code",
      "source": [
        "x = df['Ammoniacal_nitrogen_feed']\n",
        "y= df['TIN_removal']\n",
        "m, b = np.polyfit(x, y, 1)\n",
        "plt.scatter(x, y)\n",
        "plt.plot(x, m*x + b, color='red')\n",
        "plt.xlabel('Ammoniacal_nitrogen_feed')\n",
        "plt.ylabel('TIN_removal')\n"
      ],
      "metadata": {
        "colab": {
          "base_uri": "https://localhost:8080/",
          "height": 467
        },
        "id": "PdYg7vh-MAHP",
        "outputId": "c098eba7-ebf1-4732-e476-6ef0aee6e712"
      },
      "execution_count": null,
      "outputs": [
        {
          "output_type": "execute_result",
          "data": {
            "text/plain": [
              "Text(0, 0.5, 'TIN_removal')"
            ]
          },
          "metadata": {},
          "execution_count": 8
        },
        {
          "output_type": "display_data",
          "data": {
            "text/plain": [
              "<Figure size 640x480 with 1 Axes>"
            ],
            "image/png": "[encoded data removed]"
          },
          "metadata": {}
        }
      ]
    },
    {
      "cell_type": "code",
      "source": [
        "print(\"Intercept: \", reg.intercept_)\n",
        "print(\"Coefficients: \", reg.coef_)"
      ],
      "metadata": {
        "colab": {
          "base_uri": "https://localhost:8080/"
        },
        "id": "SKVVKqy7_Dtg",
        "outputId": "1300f127-e640-4eb9-9f93-e80ae03bbe36"
      },
      "execution_count": null,
      "outputs": [
        {
          "output_type": "stream",
          "name": "stdout",
          "text": [
            "Intercept:  -19.18137389397609\n",
            "Coefficients:  [-7.45180293e-05 -1.60512093e-03  2.26026076e-02 -1.53966523e-03\n",
            " -5.89514537e-04  1.06757862e-03  8.71229427e-04 -1.89935640e-06\n",
            "  0.00000000e+00 -9.50490646e-07]\n"
          ]
        }
      ]
    },
    {
      "cell_type": "code",
      "source": [
        "from sklearn.metrics import r2_score, mean_squared_error\n",
        "\n",
        "# make predictions on the entire dataset using the fitted model\n",
        "Y_pred = reg.predict(X)\n",
        "\n",
        "# calculate the R-squared score\n",
        "r2 = r2_score(Y, Y_pred)\n",
        "\n",
        "# calculate the mean squared error\n",
        "mse = mean_squared_error(Y, Y_pred)\n",
        "\n",
        "# calculate the root mean squared error\n",
        "rmse = np.sqrt(mse)\n",
        "\n",
        "# print the evaluation metrics\n",
        "print(\"R-squared score: \", r2)\n",
        "print(\"Mean Squared Error: \", mse)\n",
        "print(\"Root Mean Squared Error: \", rmse)"
      ],
      "metadata": {
        "colab": {
          "base_uri": "https://localhost:8080/"
        },
        "id": "m3rc74LU_G4U",
        "outputId": "ad549f0b-30a9-4903-9988-67e9ad74ec73"
      },
      "execution_count": null,
      "outputs": [
        {
          "output_type": "stream",
          "name": "stdout",
          "text": [
            "R-squared score:  0.97730003682133\n",
            "Mean Squared Error:  0.00045270352518530073\n",
            "Root Mean Squared Error:  0.021276830712897557\n"
          ]
        }
      ]
    }
  ]
}